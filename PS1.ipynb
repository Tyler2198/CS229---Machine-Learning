{
 "cells": [
  {
   "cell_type": "markdown",
   "id": "010dd8b7",
   "metadata": {},
   "source": [
    "# CS 229: Problem Set 1\n",
    "\n",
    "## Problem 1: Linear Classifiers (Logistic Regression and GDA)"
   ]
  },
  {
   "cell_type": "markdown",
   "id": "805452f9",
   "metadata": {},
   "source": [
    "### a)"
   ]
  },
  {
   "cell_type": "markdown",
   "id": "b00f81d2",
   "metadata": {},
   "source": [
    "Consider the average empirical loss function for a logistic regression: \n",
    "\n",
    "\\begin{equation}\n",
    "\\text{J}(\\theta) = -\\frac{1}{m}\\sum_{i=1}^my^{(i)} \\ \\text{log}(h_{\\theta}(x^{(i)})) \\ + \\ (1-y^{(i)}) \\ \\text{log}(1-h_{\\theta}(x^{(i)}))\n",
    "\\end{equation}\n",
    "\n",
    "where $y^{(i)} \\in \\{0,1\\}$, $h_{\\theta}(x^{(i)}) = \\text{g}(\\theta^Tx^{(i)})$ and $\\text{g}(z) = 1/(1 + e^{-\\theta^Tz})$. To derive the Hessian matrix, we first start out by computing the gradient of the loss function. \n",
    "\\begin{align*}\n",
    "\\nabla_{\\theta} \\text{J}(\\theta) \n",
    "&= -\\frac{1}{m}\\sum_{i=1}^m \n",
    "   \\frac{y^{(i)}}{h_{\\theta}(x^{(i)})} \n",
    "   \\, h_{\\theta}(x^{(i)})\\bigl(1 - h_{\\theta}(x^{(i)})\\bigr)x^{(i)} - \n",
    "   \\frac{(1 - y^{(i)})}{1 - h_{\\theta}(x^{(i)})}\n",
    "   \\, h_{\\theta}(x^{(i)})\\bigl(1 - h_{\\theta}(x^{(i)})\\bigr)x^{(i)} \\\\\n",
    "&= -\\frac{1}{m}\\sum_{i=1}^m y^{(i)}\\bigl(1 - h_{\\theta}(x^{(i)})\\bigr)x^{(i)}-(1 - y^{(i)})h_{\\theta}(x^{(i)})x^{(i)}\\\\\n",
    "&=-\\frac{1}{m}\\sum_{i=1}^m(y^{(i)}-h_{\\theta}(x^{(i)}))x^{(i)}\n",
    "\\end{align*}\n",
    "\n",
    "thus, the Hessian matrix is \n",
    "\\begin{align*}\n",
    "\\nabla_{\\theta}^2 \\text{J}(\\theta) \n",
    "&= \\frac{1}{m}\\sum_{i=1}^m(h_{\\theta}(x^{(i)})(1-h_{\\theta}(x^{(i)})))x^{(i)}(x^{(i)})^T\n",
    "\\end{align*}\n",
    "\n",
    "We now prove that the Hessian matrix of the loss function is positive semidefinite. Formally, given any vector $z \\in R^n$, then $z^THz \\geq 0$. We start out by noting that \n",
    "\n",
    "\\begin{equation}\n",
    "\\sum_i\\sum_jz_ix_ix_jz_j = (x^Tz)^2 \\geq 0\n",
    "\\end{equation}\n",
    "\n",
    "thus, \n",
    "\n",
    "\\begin{align*}\n",
    "z^THz \n",
    "&= \\sum_{k = 1}^n\\sum_{j=1}^n\n",
    "z_kz_jH_{jk} \\\\\n",
    "&= \\sum_{k = 1}^n\\sum_{j=1}^n\n",
    "z_kz_j\\frac{1}{m}\\sum_{i=1}^m(h_{\\theta}(x^{(i)})(1-h_{\\theta}(x^{(i)})))x^{(i)}_jx^{(i)}_k \\\\\n",
    "&= \\frac{1}{m}\\sum_{i=1}^m(h_{\\theta}(x^{(i)})(1-h_{\\theta}(x^{(i)})))\\sum_{k = 1}^n\\sum_{j=1}^n\n",
    "z_kz_jx^{(i)}_jx^{(i)}_k \\\\\n",
    "&=\\frac{1}{m}\\sum_{i=1}^m(h_{\\theta}(x^{(i)})(1-h_{\\theta}(x^{(i)})))((x^{(i)})^Tz)^2 \\\\\n",
    "&\\geq 0\n",
    "\\end{align*}\n",
    "\n",
    "This implies that the average empirical loss function is convex, which means that there are no local minima except for the global one."
   ]
  },
  {
   "cell_type": "markdown",
   "id": "5b42fc40",
   "metadata": {},
   "source": [
    "### b)"
   ]
  },
  {
   "cell_type": "code",
   "execution_count": 1,
   "id": "42c6da85",
   "metadata": {},
   "outputs": [],
   "source": [
    "import numpy as np\n",
    "import util\n",
    "import matplotlib.pyplot as plt\n",
    "\n",
    "from linear_model import LinearModel"
   ]
  },
  {
   "cell_type": "markdown",
   "id": "f1f16b47",
   "metadata": {},
   "source": [
    "We import the training and test sets provided for."
   ]
  },
  {
   "cell_type": "code",
   "execution_count": 2,
   "id": "6b6f2334",
   "metadata": {},
   "outputs": [],
   "source": [
    "train_path = \"ds1_train.csv\"\n",
    "eval_path = \"ds1_valid.csv\""
   ]
  },
  {
   "cell_type": "code",
   "execution_count": 3,
   "id": "89acafe8",
   "metadata": {},
   "outputs": [],
   "source": [
    "x_train, y_train = util.load_dataset(train_path, add_intercept=True)\n",
    "x_eval, y_eval = util.load_dataset(eval_path, add_intercept=True)"
   ]
  },
  {
   "cell_type": "code",
   "execution_count": 4,
   "id": "7d25ffe0",
   "metadata": {},
   "outputs": [
    {
     "data": {
      "text/plain": [
       "array([[  1.        ,   2.91180854,  60.35961272],\n",
       "       [  1.        ,   3.77474554, 344.1492843 ],\n",
       "       [  1.        ,   2.61548828, 178.22208681],\n",
       "       ...,\n",
       "       [  1.        ,   2.96909526,  20.24997848],\n",
       "       [  1.        ,   3.95753102,  27.26196973],\n",
       "       [  1.        ,   4.02533402,  12.23316511]])"
      ]
     },
     "execution_count": 4,
     "metadata": {},
     "output_type": "execute_result"
    }
   ],
   "source": [
    "x_train"
   ]
  },
  {
   "cell_type": "code",
   "execution_count": 5,
   "id": "28a1f0a9",
   "metadata": {
    "scrolled": true
   },
   "outputs": [],
   "source": [
    "#y_train"
   ]
  },
  {
   "cell_type": "markdown",
   "id": "74970d54",
   "metadata": {},
   "source": [
    "We plot the training set for visualization purposes and data exploration."
   ]
  },
  {
   "cell_type": "code",
   "execution_count": 6,
   "id": "0483fb50",
   "metadata": {},
   "outputs": [
    {
     "name": "stderr",
     "output_type": "stream",
     "text": [
      "No artists with labels found to put in legend.  Note that artists whose label start with an underscore are ignored when legend() is called with no argument.\n"
     ]
    },
    {
     "data": {
      "image/png": "[encoded data removed]",
      "text/plain": [
       "<Figure size 432x288 with 1 Axes>"
      ]
     },
     "metadata": {
      "needs_background": "light"
     },
     "output_type": "display_data"
    }
   ],
   "source": [
    "plt.plot(x_train[y_train == 1, -2], x_train[y_train == 1, -1], 'bx', linewidth=2)\n",
    "plt.plot(x_train[y_train == 0, -2], x_train[y_train == 0, -1], 'go', linewidth=2)\n",
    "plt.legend()\n",
    "plt.xlabel(\"X1\")\n",
    "plt.ylabel(\"X2\")\n",
    "plt.title(\"Binary Labels in 2D\")\n",
    "plt.show()"
   ]
  },
  {
   "cell_type": "markdown",
   "id": "768bc474",
   "metadata": {},
   "source": [
    "We now define our Logistic Regression Class that uses the Newton's Method to minimize the average empirical loss and update the model parameters."
   ]
  },
  {
   "cell_type": "code",
   "execution_count": 7,
   "id": "36f3c88b",
   "metadata": {},
   "outputs": [],
   "source": [
    "class LogisticRegression(LinearModel):\n",
    "    \"\"\"Logistic regression with Newton's Method as the solver.\n",
    "\n",
    "    Example usage:\n",
    "        > clf = LogisticRegression()\n",
    "        > clf.fit(x_train, y_train)\n",
    "        > clf.predict(x_eval)\n",
    "    \"\"\"\n",
    "    \n",
    "    def linear_input(self, x, theta):\n",
    "        \"\"\"Computes liner combination of theta and feature vector.\n",
    "        \n",
    "        Args:\n",
    "            x: Training example inputs. Shape (m, n).\n",
    "            theta: weight parameters. Shape (n,1).\n",
    "        \"\"\"\n",
    "        return x @ theta\n",
    "    \n",
    "    \n",
    "    def net_input(self, z):\n",
    "        \"\"\"Applies the Sigmoid Function to linear input z.\n",
    "        \n",
    "        Args:\n",
    "            z: linear input. Shape (m,1).\n",
    "        \"\"\"\n",
    "        return 1 / (1 + np.exp(-z))\n",
    "    \n",
    "    \n",
    "    def average_empirical_loss(self, sigma, y, m):\n",
    "        \"\"\"Computes the average empirical loss of the Logistic Regression.\n",
    "        \n",
    "        Args:\n",
    "            sigma: The net input. Shape (m,1).\n",
    "            y: Training example labels. Shape (m,1).\n",
    "            m: Number of traning examples.\n",
    "        Output:\n",
    "            Average empirical loss.\n",
    "        \"\"\"\n",
    "        epsilon = 1e-15\n",
    "        sigma = np.clip(sigma, epsilon, 1 - epsilon)\n",
    "        return -(1/m) * np.sum(y * np.log(sigma) + (1 - y) * np.log(1 - sigma))\n",
    "    \n",
    "    \n",
    "    def gradient(self, x, y, sigma, m):\n",
    "        \"\"\"Computes the gradient of the loss function.\n",
    "        \n",
    "        Args:\n",
    "            x: Training example inputs. Shape (m, n).\n",
    "            y: Training example labels. Shape (m,1).\n",
    "            sigma: The net input. Shape (m,1).\n",
    "            m: Number of traning examples.\n",
    "        Output\n",
    "            Gradient vector. Shape (n,1)\n",
    "        \"\"\"\n",
    "        return -(1/m) * (x.T @ (y - sigma))\n",
    "    \n",
    "    \n",
    "    def hessian_matrix(self, x, sigma, m):\n",
    "        \"\"\"Computes the Hessian Matrix of the loss function.\n",
    "        \n",
    "        Args:\n",
    "            x: Training example inputs. Shape (m, n).\n",
    "            sigma: The net input. Shape (m,1).\n",
    "            m: Number of traning examples.\n",
    "        Output\n",
    "            The Hessian Matrix. Shape (n, n).\n",
    "        \"\"\"\n",
    "        return (1/m) * (x.T @ ((sigma * (1 - sigma)) * x))\n",
    "    \n",
    "\n",
    "    def fit(self, x, y):\n",
    "        \"\"\"Run Newton's Method to minimize J(theta) for logistic regression.\n",
    "\n",
    "        Args:\n",
    "            x: Training example inputs. Shape (m, n).\n",
    "            y: Training example labels. Shape (m,1).\n",
    "        \"\"\"\n",
    "        self.theta = np.zeros((x.shape[1],1))\n",
    "        self.losses_ = []\n",
    "        y = y.reshape(-1,1)\n",
    "        m,n = x.shape\n",
    "        \n",
    "        for epoch in range(self.max_iter):\n",
    "            \n",
    "            z = self.linear_input(x, self.theta) \n",
    "            sigma = self.net_input(z)\n",
    "            \n",
    "            empirical_loss = self.average_empirical_loss(sigma, y, m)\n",
    "            self.losses_.append(empirical_loss)\n",
    "            \n",
    "            theta_previous = self.theta\n",
    "            \n",
    "            grad = self.gradient(x, y, sigma, m)\n",
    "            hessian = self.hessian_matrix(x, sigma, m)\n",
    "            \n",
    "            theta_update = self.theta - (np.linalg.inv(hessian) @ grad)\n",
    "            \n",
    "            if np.sum(np.absolute(theta_update - theta_previous)) < 1e-5:\n",
    "                self.theta = theta_update\n",
    "                return self\n",
    "            else:\n",
    "                self.theta = theta_update\n",
    "                \n",
    "        print(\"Maximum Iteration reached without convergence.\")    \n",
    "        return self\n",
    "            \n",
    "            \n",
    "\n",
    "    def predict(self, x):\n",
    "        \"\"\"Make a prediction given new inputs x.\n",
    "\n",
    "        Args:\n",
    "            x: Inputs of shape (m, n).\n",
    "\n",
    "        Returns:\n",
    "            Outputs of shape (m,1).\n",
    "        \"\"\"\n",
    "        z = self.linear_input(x, self.theta)  \n",
    "        sigma = self.net_input(z)\n",
    "        return np.where(sigma >= 0.5, 1, 0)\n",
    "    \n",
    "    \n",
    "    \n",
    "    def accuracy_score(self, y, y_pred):\n",
    "        \"\"\"Outputs the fraction of correct predictions.\n",
    "        \n",
    "        Args:\n",
    "            y: Labels of shape (m,1).\n",
    "            y_pred: Predicted labels of shape (m,1).\n",
    "            \n",
    "        Returns:\n",
    "            Accuracy score in percentages.\n",
    "        \"\"\"\n",
    "        return np.mean(y_pred == y.reshape(-1,1)) * 100\n"
   ]
  },
  {
   "cell_type": "markdown",
   "id": "f047f846",
   "metadata": {},
   "source": [
    "We now fit the regression and start predicting on the evaluation set."
   ]
  },
  {
   "cell_type": "code",
   "execution_count": 8,
   "id": "b2771e87",
   "metadata": {},
   "outputs": [
    {
     "data": {
      "text/plain": [
       "<__main__.LogisticRegression at 0x7fba7323c220>"
      ]
     },
     "execution_count": 8,
     "metadata": {},
     "output_type": "execute_result"
    }
   ],
   "source": [
    "lr = LogisticRegression()\n",
    "lr.fit(x_train, y_train)"
   ]
  },
  {
   "cell_type": "code",
   "execution_count": 9,
   "id": "c4d2be5b",
   "metadata": {},
   "outputs": [],
   "source": [
    "y_pred = lr.predict(x_eval)"
   ]
  },
  {
   "cell_type": "markdown",
   "id": "45902ca5",
   "metadata": {},
   "source": [
    "We plot the decision boundry on the training set and show the accuracy score."
   ]
  },
  {
   "cell_type": "code",
   "execution_count": 10,
   "id": "3cb1394c",
   "metadata": {},
   "outputs": [
    {
     "name": "stdout",
     "output_type": "stream",
     "text": [
      "Model Coefficients: [[-6.26018491]\n",
      " [ 2.47707251]\n",
      " [-0.0299125 ]]\n",
      "Training Set Accuracy: 88.25\n"
     ]
    },
    {
     "data": {
      "image/png": "[encoded data removed]",
      "text/plain": [
       "<Figure size 432x288 with 1 Axes>"
      ]
     },
     "metadata": {
      "needs_background": "light"
     },
     "output_type": "display_data"
    }
   ],
   "source": [
    "util.plot(x_train, y_train, lr.theta)\n",
    "print('Model Coefficients:', lr.theta)\n",
    "print('Training Set Accuracy:', lr.accuracy_score(y_train, lr.predict(x_train)))"
   ]
  },
  {
   "cell_type": "markdown",
   "id": "9dc6bd27",
   "metadata": {},
   "source": [
    "We do the same thing with the test set."
   ]
  },
  {
   "cell_type": "code",
   "execution_count": 11,
   "id": "aa0d5d42",
   "metadata": {},
   "outputs": [
    {
     "name": "stdout",
     "output_type": "stream",
     "text": [
      "Test Set Accuracy: 90.0\n"
     ]
    },
    {
     "data": {
      "image/png": "[encoded data removed]",
      "text/plain": [
       "<Figure size 432x288 with 1 Axes>"
      ]
     },
     "metadata": {
      "needs_background": "light"
     },
     "output_type": "display_data"
    }
   ],
   "source": [
    "util.plot(x_eval, y_eval, lr.theta)\n",
    "print('Test Set Accuracy:', lr.accuracy_score(y_eval, y_pred))"
   ]
  },
  {
   "cell_type": "markdown",
   "id": "af13203b",
   "metadata": {},
   "source": [
    "Lastly, we show the diminishing average empirical loss as we train the model."
   ]
  },
  {
   "cell_type": "code",
   "execution_count": 12,
   "id": "15fb4ad5",
   "metadata": {},
   "outputs": [
    {
     "data": {
      "text/plain": [
       "Text(0, 0.5, 'Average Empirical Loss')"
      ]
     },
     "execution_count": 12,
     "metadata": {},
     "output_type": "execute_result"
    },
    {
     "data": {
      "image/png": "[encoded data removed]",
      "text/plain": [
       "<Figure size 432x288 with 1 Axes>"
      ]
     },
     "metadata": {
      "needs_background": "light"
     },
     "output_type": "display_data"
    }
   ],
   "source": [
    "plt.plot(lr.losses_)\n",
    "plt.xlabel('Epochs')\n",
    "plt.ylabel('Average Empirical Loss')"
   ]
  },
  {
   "cell_type": "markdown",
   "id": "f0e96363",
   "metadata": {},
   "source": [
    "### c)"
   ]
  },
  {
   "cell_type": "markdown",
   "id": "e090df9c",
   "metadata": {},
   "source": [
    "We consider a Gaussian Discriminant Analysis where our model takes the following form:\n",
    "\n",
    "\\begin{align*}\n",
    "p(y) &= \\left\\{ \\begin{aligned} \n",
    "   &\\phi \\ \\ \\ \\ \\  \\ \\  \\ \\ \\ \\ \\  \\ \\ \\text{if} \\ \\  y = 1\\\\\n",
    "  &(1 - \\phi) \\ \\ \\ \\ \\ \\text{if} \\ \\  y = 0\n",
    "\\end{aligned} \\right. \\\\\n",
    "p(x|y = 0) &= \\frac{1}{(2\\pi)^{n/2} \\ |\\Sigma|^{-1/2}} \\ \\text{exp} \\ (-\\frac{1}{2}(x - \\mu_0)^T \\ \\Sigma^{-1} \\ (x - \\mu_0)) \\\\\n",
    "p(x|y = 0) &= \\frac{1}{(2\\pi)^{n/2} \\ |\\Sigma|^{-1/2}} \\ \\text{exp} \\ (-\\frac{1}{2}(x - \\mu_1)^T \\ \\Sigma^{-1} \\ (x - \\mu_1))\n",
    "\\end{align*}\n",
    "\n",
    "We want to show that GDA results in a linear classifier that has a linear decision boundary. In particular, we want to show that\n",
    "\n",
    "\\begin{align*}\n",
    "p(y = 1|x; \\phi, \\mu_0, \\mu_1, \\Sigma) = \\frac{1}{1 + \\text{exp}(-\\theta^Tx + \\theta_0)}\n",
    "\\end{align*}\n",
    "\n",
    "We start out with Bayes's Rule, and omit parameters in parentheses for simplicity:\n",
    "\n",
    "\\begin{align*}\n",
    "p(y = 1|x) &= \\frac{p(x|y = 1)p(y = 1)}{p(x|y = 1)p(y = 1) + p(x|y = 0)p(y = 0)} \\\\\n",
    "&= \\frac{\\phi \\ \\text{exp} \\ (-\\frac{1}{2}(x - \\mu_1)^T \\ \\Sigma^{-1} \\ (x - \\mu_1))}{\\phi \\ \\text{exp} \\ (-\\frac{1}{2}(x - \\mu_1)^T \\ \\Sigma^{-1} \\ (x - \\mu_1)) + (1 - \\phi) \\ \\text{exp} \\ (-\\frac{1}{2}(x - \\mu_0)^T \\ \\Sigma^{-1} \\ (x - \\mu_0))} \\\\\n",
    "&= \\frac{1}{1 + \\frac{1 - \\phi}{\\phi} \\ \\text{exp} \\ (\\frac{1}{2}(x - \\mu_1)^T \\ \\Sigma^{-1} \\ (x - \\mu_1)) - \\frac{1}{2}(x - \\mu_0)^T \\ \\Sigma^{-1} \\ (x - \\mu_0))} \\\\\n",
    "&= \\frac{1}{1 + \\text{exp} \\ (\\frac{1}{2}(x - \\mu_1)^T \\ \\Sigma^{-1} \\ (x - \\mu_1)) - \\frac{1}{2}(x - \\mu_0)^T \\ \\Sigma^{-1} \\ (x - \\mu_0) + \\text{log}(\\frac{1 - \\phi}{\\phi}))} \\\\\n",
    "&= \\frac{1}{1 + \\text{exp} \\ (-((\\mu_1 - \\mu_0)^T \\ \\Sigma^{-1}x + \\frac{1}{2} \\ (\\mu_0^T \\Sigma^{-1} \\mu_0 - \\mu_1^T \\Sigma^{-1} \\mu_1 - \\text{log}(\\frac{1 - \\phi}{\\phi}))))} \\\\\n",
    "&= \\frac{1}{1 + \\text{exp}(-\\theta^Tx + \\theta_0)}\n",
    "\\end{align*}"
   ]
  },
  {
   "cell_type": "markdown",
   "id": "bd81712c",
   "metadata": {},
   "source": [
    "### d)"
   ]
  },
  {
   "cell_type": "code",
   "execution_count": null,
   "id": "aaccfc98",
   "metadata": {},
   "outputs": [],
   "source": []
  }
 ],
 "metadata": {
  "kernelspec": {
   "display_name": "Python 3",
   "language": "python",
   "name": "python3"
  },
  "language_info": {
   "codemirror_mode": {
    "name": "ipython",
    "version": 3
   },
   "file_extension": ".py",
   "mimetype": "text/x-python",
   "name": "python",
   "nbconvert_exporter": "python",
   "pygments_lexer": "ipython3",
   "version": "3.8.8"
  }
 },
 "nbformat": 4,
 "nbformat_minor": 5
}
